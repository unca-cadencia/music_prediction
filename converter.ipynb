{
 "cells": [
  {
   "cell_type": "code",
   "execution_count": 2,
   "metadata": {},
   "outputs": [],
   "source": [
    "from music21 import * \n",
    "with open('environment.txt') as f:\n",
    "    env = f.readlines()\n",
    "# you may also want to remove whitespace characters like \\n at the end of each line\n",
    "\n",
    "env = [x.strip() for x in env]\n",
    "# this is what gets .show() to work\n",
    "us = environment.UserSettings()\n",
    "us['musicxmlPath'] = env[0]\n",
    "us['musescoreDirectPNGPath'] = env[0]"
   ]
  },
  {
   "cell_type": "code",
   "execution_count": 3,
   "metadata": {},
   "outputs": [
    {
     "ename": "StreamPlayerException",
     "evalue": "StreamPlayer requires pygame.  Install first",
     "output_type": "error",
     "traceback": [
      "\u001b[1;31m---------------------------------------------------------------------------\u001b[0m",
      "\u001b[1;31mModuleNotFoundError\u001b[0m                       Traceback (most recent call last)",
      "\u001b[1;32mc:\\users\\errpo\\anaconda3\\envs\\music\\lib\\site-packages\\music21\\midi\\realtime.py\u001b[0m in \u001b[0;36m__init__\u001b[1;34m(self, streamIn, **keywords)\u001b[0m\n\u001b[0;32m     87\u001b[0m         \u001b[1;32mtry\u001b[0m\u001b[1;33m:\u001b[0m\u001b[1;33m\u001b[0m\u001b[0m\n\u001b[1;32m---> 88\u001b[1;33m             \u001b[1;32mimport\u001b[0m \u001b[0mpygame\u001b[0m\u001b[1;33m\u001b[0m\u001b[0m\n\u001b[0m\u001b[0;32m     89\u001b[0m             \u001b[0mself\u001b[0m\u001b[1;33m.\u001b[0m\u001b[0mpygame\u001b[0m \u001b[1;33m=\u001b[0m \u001b[0mpygame\u001b[0m\u001b[1;33m\u001b[0m\u001b[0m\n",
      "\u001b[1;31mModuleNotFoundError\u001b[0m: No module named 'pygame'",
      "\nDuring handling of the above exception, another exception occurred:\n",
      "\u001b[1;31mStreamPlayerException\u001b[0m                     Traceback (most recent call last)",
      "\u001b[1;32m<ipython-input-3-aa10c92d7c2e>\u001b[0m in \u001b[0;36m<module>\u001b[1;34m()\u001b[0m\n\u001b[0;32m      7\u001b[0m \u001b[1;32mfor\u001b[0m \u001b[0mn\u001b[0m \u001b[1;32min\u001b[0m \u001b[0mb\u001b[0m\u001b[1;33m.\u001b[0m\u001b[0mflat\u001b[0m\u001b[1;33m.\u001b[0m\u001b[0mnotes\u001b[0m\u001b[1;33m:\u001b[0m\u001b[1;33m\u001b[0m\u001b[0m\n\u001b[0;32m      8\u001b[0m    \u001b[0mn\u001b[0m\u001b[1;33m.\u001b[0m\u001b[0mpitch\u001b[0m\u001b[1;33m.\u001b[0m\u001b[0mmicrotone\u001b[0m \u001b[1;33m=\u001b[0m \u001b[0mkeyDetune\u001b[0m\u001b[1;33m[\u001b[0m\u001b[0mn\u001b[0m\u001b[1;33m.\u001b[0m\u001b[0mpitch\u001b[0m\u001b[1;33m.\u001b[0m\u001b[0mmidi\u001b[0m\u001b[1;33m]\u001b[0m\u001b[1;33m\u001b[0m\u001b[0m\n\u001b[1;32m----> 9\u001b[1;33m \u001b[0msp\u001b[0m \u001b[1;33m=\u001b[0m \u001b[0mmidi\u001b[0m\u001b[1;33m.\u001b[0m\u001b[0mrealtime\u001b[0m\u001b[1;33m.\u001b[0m\u001b[0mStreamPlayer\u001b[0m\u001b[1;33m(\u001b[0m\u001b[0mb\u001b[0m\u001b[1;33m)\u001b[0m\u001b[1;33m\u001b[0m\u001b[0m\n\u001b[0m\u001b[0;32m     10\u001b[0m \u001b[0msp\u001b[0m\u001b[1;33m.\u001b[0m\u001b[0mplay\u001b[0m\u001b[1;33m(\u001b[0m\u001b[1;33m)\u001b[0m\u001b[1;33m\u001b[0m\u001b[0m\n",
      "\u001b[1;32mc:\\users\\errpo\\anaconda3\\envs\\music\\lib\\site-packages\\music21\\midi\\realtime.py\u001b[0m in \u001b[0;36m__init__\u001b[1;34m(self, streamIn, **keywords)\u001b[0m\n\u001b[0;32m     89\u001b[0m             \u001b[0mself\u001b[0m\u001b[1;33m.\u001b[0m\u001b[0mpygame\u001b[0m \u001b[1;33m=\u001b[0m \u001b[0mpygame\u001b[0m\u001b[1;33m\u001b[0m\u001b[0m\n\u001b[0;32m     90\u001b[0m         \u001b[1;32mexcept\u001b[0m \u001b[0mImportError\u001b[0m\u001b[1;33m:\u001b[0m\u001b[1;33m\u001b[0m\u001b[0m\n\u001b[1;32m---> 91\u001b[1;33m             \u001b[1;32mraise\u001b[0m \u001b[0mStreamPlayerException\u001b[0m\u001b[1;33m(\u001b[0m\u001b[1;34m\"StreamPlayer requires pygame.  Install first\"\u001b[0m\u001b[1;33m)\u001b[0m\u001b[1;33m\u001b[0m\u001b[0m\n\u001b[0m\u001b[0;32m     92\u001b[0m         if (self.mixerInitialized is False or\n\u001b[0;32m     93\u001b[0m                 (\"reinitMixer\" in keywords and keywords[\"reinitMixer\"] != False)):\n",
      "\u001b[1;31mStreamPlayerException\u001b[0m: StreamPlayer requires pygame.  Install first"
     ]
    }
   ],
   "source": [
    ">>> import random\n",
    ">>> keyDetune = []\n",
    ">>> for i in range(127):\n",
    "...    keyDetune.append(random.randint(-30, 30))\n",
    "\n",
    "b = corpus.parse('bwv66.6')\n",
    ">>> for n in b.flat.notes:\n",
    "...    n.pitch.microtone = keyDetune[n.pitch.midi]\n",
    ">>> sp = midi.realtime.StreamPlayer(b)\n",
    ">>> sp.play()"
   ]
  },
  {
   "cell_type": "code",
   "execution_count": 2,
   "metadata": {},
   "outputs": [
    {
     "data": {
      "text/plain": [
       "22"
      ]
     },
     "execution_count": 2,
     "metadata": {},
     "output_type": "execute_result"
    }
   ],
   "source": [
    " s = stream.Stream()\n",
    " n = note.Note('g#')\n",
    " n.quarterLength = .5\n",
    " s.repeatAppend(n, 4)\n",
    " mf = midi.translate.streamToMidiFile(s)\n",
    " len(mf.tracks)\n",
    " len(mf.tracks[0].events)\n"
   ]
  },
  {
   "cell_type": "code",
   "execution_count": 3,
   "metadata": {
    "collapsed": true
   },
   "outputs": [],
   "source": [
    " sc = scale.PhrygianScale('g')\n",
    " s = stream.Stream()\n",
    " x=[s.append(note.Note(sc.pitchFromDegree(i % 11), quarterLength=.25)) for i in range(60)]\n",
    " mf = midi.translate.streamToMidiFile(s)\n",
    " mf.open('C:/Users/errpo/Desktop/projects/project folder/music_prediction/midis/gPhrygian.MID', 'wb')\n",
    " mf.write()\n",
    " mf.close()"
   ]
  }
 ],
 "metadata": {
  "kernelspec": {
   "display_name": "Python 3",
   "language": "python",
   "name": "python3"
  },
  "language_info": {
   "codemirror_mode": {
    "name": "ipython",
    "version": 3
   },
   "file_extension": ".py",
   "mimetype": "text/x-python",
   "name": "python",
   "nbconvert_exporter": "python",
   "pygments_lexer": "ipython3",
   "version": "3.6.2"
  }
 },
 "nbformat": 4,
 "nbformat_minor": 2
}
