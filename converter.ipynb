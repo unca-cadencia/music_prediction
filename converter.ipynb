{
 "cells": [
  {
   "cell_type": "code",
   "execution_count": 1,
   "metadata": {
    "collapsed": true
   },
   "outputs": [],
   "source": [
    "from music21 import * \n",
    "with open('environment.txt') as f:\n",
    "    env = f.readlines()\n",
    "# you may also want to remove whitespace characters like \\n at the end of each line\n",
    "\n",
    "env = [x.strip() for x in env]\n",
    "# this is what gets .show() to work\n",
    "us = environment.UserSettings()\n",
    "us['musicxmlPath'] = env[0]\n",
    "us['musescoreDirectPNGPath'] = env[0]"
   ]
  },
  {
   "cell_type": "code",
   "execution_count": 2,
   "metadata": {},
   "outputs": [
    {
     "data": {
      "text/plain": [
       "22"
      ]
     },
     "execution_count": 2,
     "metadata": {},
     "output_type": "execute_result"
    }
   ],
   "source": [
    " s = stream.Stream()\n",
    " n = note.Note('g#')\n",
    " n.quarterLength = .5\n",
    " s.repeatAppend(n, 4)\n",
    " mf = midi.translate.streamToMidiFile(s)\n",
    " len(mf.tracks)\n",
    " len(mf.tracks[0].events)\n"
   ]
  },
  {
   "cell_type": "code",
   "execution_count": 3,
   "metadata": {
    "collapsed": true
   },
   "outputs": [],
   "source": [
    " sc = scale.PhrygianScale('g')\n",
    " s = stream.Stream()\n",
    " x=[s.append(note.Note(sc.pitchFromDegree(i % 11), quarterLength=.25)) for i in range(60)]\n",
    " mf = midi.translate.streamToMidiFile(s)\n",
    " mf.open('C:/Users/errpo/Desktop/projects/project folder/music_prediction/midis/gPhrygian.MID', 'wb')\n",
    " mf.write()\n",
    " mf.close()"
   ]
  }
 ],
 "metadata": {
  "kernelspec": {
   "display_name": "Python 3",
   "language": "python",
   "name": "python3"
  },
  "language_info": {
   "codemirror_mode": {
    "name": "ipython",
    "version": 3
   },
   "file_extension": ".py",
   "mimetype": "text/x-python",
   "name": "python",
   "nbconvert_exporter": "python",
   "pygments_lexer": "ipython3",
   "version": "3.6.1"
  }
 },
 "nbformat": 4,
 "nbformat_minor": 2
}
