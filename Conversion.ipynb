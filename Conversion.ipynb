{
 "cells": [
  {
   "cell_type": "code",
   "execution_count": 2,
   "metadata": {
    "collapsed": true
   },
   "outputs": [],
   "source": [
    "from music21 import *"
   ]
  },
  {
   "cell_type": "code",
   "execution_count": 4,
   "metadata": {},
   "outputs": [],
   "source": [
    "with open('environment.txt') as f:\n",
    "    env = f.readlines()\n",
    "# you may also want to remove whitespace characters like \\n at the end of each line\n",
    "env = [x.strip() for x in env]\n",
    "\n",
    "# this is what gets .show() to work\n",
    "us = environment.UserSettings()\n",
    "us['musicxmlPath'] = env[0]\n",
    "us['musescoreDirectPNGPath'] = env[0]"
   ]
  },
  {
   "cell_type": "code",
   "execution_count": 52,
   "metadata": {},
   "outputs": [
    {
     "name": "stdout",
     "output_type": "stream",
     "text": [
      "<class 'xml.etree.ElementTree.Element'>\n",
      "<class 'xml.etree.ElementTree.Element'>\n"
     ]
    }
   ],
   "source": [
    "import re\n",
    "import xml\n",
    "\n",
    "bachRegex = re.compile(r'.*bwv.*', re.IGNORECASE)\n",
    "bd = corpus.search(bachRegex)\n",
    "\n",
    "\n",
    "SX = musicxml.m21ToXml.ScoreExporter(bd[5].parse())\n",
    "print(type(SX.parse()))\n",
    "b = SX.parse()\n",
    "\n",
    "print(type(b))\n",
    "\n",
    "with open('out.xml','wb') as f:\n",
    "    f.write(xml.etree.ElementTree.tostring(b))\n",
    "\n",
    "#for s in bd:\n",
    "#    SX = musicxml.m21ToXml.ScoreExporter(s.parse())\n",
    "#    print(type(SX.dump(SX.parse())))\n",
    "    "
   ]
  },
  {
   "cell_type": "code",
   "execution_count": null,
   "metadata": {
    "collapsed": true
   },
   "outputs": [],
   "source": []
  }
 ],
 "metadata": {
  "kernelspec": {
   "display_name": "Python 3",
   "language": "python",
   "name": "python3"
  },
  "language_info": {
   "codemirror_mode": {
    "name": "ipython",
    "version": 3
   },
   "file_extension": ".py",
   "mimetype": "text/x-python",
   "name": "python",
   "nbconvert_exporter": "python",
   "pygments_lexer": "ipython3",
   "version": "3.6.2"
  }
 },
 "nbformat": 4,
 "nbformat_minor": 2
}
