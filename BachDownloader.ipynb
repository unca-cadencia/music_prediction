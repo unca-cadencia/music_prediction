{
 "cells": [
  {
   "cell_type": "code",
   "execution_count": 3,
   "metadata": {},
   "outputs": [],
   "source": [
    "from music21 import * \n",
    "import re\n",
    "\n",
    "# with open('environment.txt') as f:\n",
    "#     env = f.readlines()\n",
    "# # you may also want to remove whitespace characters like \\n at the end of each line\n",
    "\n",
    "# env = [x.strip() for x in env]\n",
    "# # this is what gets .show() to work\n",
    "# us = environment.UserSettings()\n",
    "# us['musicxmlPath'] = env[0]\n",
    "# us['musescoreDirectPNGPath'] = env[0]"
   ]
  },
  {
   "cell_type": "code",
   "execution_count": 4,
   "metadata": {},
   "outputs": [],
   "source": [
    "bachRegex = re.compile(r'.*bwv.*', re.IGNORECASE)\n",
    "bd = corpus.search(bachRegex)\n"
   ]
  },
  {
   "cell_type": "code",
   "execution_count": null,
   "metadata": {},
   "outputs": [],
   "source": [
    "#  scores = scale.PhrygianScale('g')\n",
    "#  s = stream.Stream()\n",
    "#  x=[s.append(note.Note(sc.pitchFromDegree(i % 11), quarterLength=.25)) for i in range(60)]\n",
    "# for s in bd:\n",
    "#     mf = midi.translate.streamToMidiFile(s)\n",
    "#     mf.open('./', 'wb')\n",
    "#     mf.write()\n",
    "#     mf.close()"
   ]
  },
  {
   "cell_type": "code",
   "execution_count": 9,
   "metadata": {},
   "outputs": [
    {
     "data": {
      "text/plain": [
       "'./data/bwv1.6.mxl.mid'"
      ]
     },
     "execution_count": 9,
     "metadata": {},
     "output_type": "execute_result"
    }
   ],
   "source": [
    "fname = \"./midis/\" + bd[0].sourcePath.split(\"/\")[1]+'.mid'\n",
    "fname"
   ]
  }
 ],
 "metadata": {
  "kernelspec": {
   "display_name": "Python 3",
   "language": "python",
   "name": "python3"
  },
  "language_info": {
   "codemirror_mode": {
    "name": "ipython",
    "version": 3
   },
   "file_extension": ".py",
   "mimetype": "text/x-python",
   "name": "python",
   "nbconvert_exporter": "python",
   "pygments_lexer": "ipython3",
   "version": "3.6.2"
  }
 },
 "nbformat": 4,
 "nbformat_minor": 2
}
